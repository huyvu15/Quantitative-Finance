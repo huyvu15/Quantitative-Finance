{
 "cells": [
  {
   "cell_type": "code",
   "execution_count": 2,
   "id": "experienced-boards",
   "metadata": {},
   "outputs": [],
   "source": [
    "import yfinance as yf"
   ]
  },
  {
   "cell_type": "markdown",
   "id": "caroline-clearance",
   "metadata": {},
   "source": [
    "## Retrieving financial information is also super easy. Simply pass as an argument of Ticker the ticker of the company. Below code uses Amazon as an example:"
   ]
  },
  {
   "cell_type": "code",
   "execution_count": 3,
   "id": "realistic-vanilla",
   "metadata": {},
   "outputs": [
    {
     "name": "stdout",
     "output_type": "stream",
     "text": [
      "{'address1': '410 Terry Avenue North', 'city': 'Seattle', 'state': 'WA', 'zip': '98109-5210', 'country': 'United States', 'phone': '206 266 1000', 'website': 'https://www.aboutamazon.com', 'industry': 'Internet Retail', 'industryKey': 'internet-retail', 'industryDisp': 'Internet Retail', 'sector': 'Consumer Cyclical', 'sectorKey': 'consumer-cyclical', 'sectorDisp': 'Consumer Cyclical', 'longBusinessSummary': \"Amazon.com, Inc. engages in the retail sale of consumer products and subscriptions through online and physical stores in North America and internationally. It operates through three segments: North America, International, and Amazon Web Services (AWS). The company's products offered through its stores include merchandise and content purchased for resale; and products offered by third-party sellers. It also manufactures and sells electronic devices, including Kindle, Fire tablets, Fire TVs, Rings, Blink, eero, and Echo; and develops and produces media content. In addition, the company offers programs that enable sellers to sell their products in its stores; and programs that allow authors, musicians, filmmakers, Twitch streamers, skill and app developers, and others to publish and sell content. Further, it provides compute, storage, database, analytics, machine learning, and other services, as well as fulfillment, advertising, and digital content subscriptions. Additionally, the company offers Amazon Prime, a membership program. It serves consumers, sellers, developers, enterprises, content creators, and advertisers. The company was incorporated in 1994 and is headquartered in Seattle, Washington.\", 'fullTimeEmployees': 1500000, 'companyOfficers': [{'maxAge': 1, 'name': 'Mr. Jeffrey P. Bezos', 'age': 58, 'title': 'Founder & Executive Chairman', 'yearBorn': 1964, 'fiscalYear': 2022, 'totalPay': 1681840, 'exercisedValue': 0, 'unexercisedValue': 0}, {'maxAge': 1, 'name': 'Mr. Andrew R. Jassy', 'age': 54, 'title': 'President, CEO & Director', 'yearBorn': 1968, 'fiscalYear': 2022, 'totalPay': 1298723, 'exercisedValue': 0, 'unexercisedValue': 0}, {'maxAge': 1, 'name': 'Mr. Brian T. Olsavsky', 'age': 58, 'title': 'Senior VP & CFO', 'yearBorn': 1964, 'fiscalYear': 2022, 'totalPay': 319850, 'exercisedValue': 0, 'unexercisedValue': 0}, {'maxAge': 1, 'name': 'Mr. David A. Zapolsky', 'age': 58, 'title': 'Senior VP of Global Public Policy & General Counsel', 'yearBorn': 1964, 'fiscalYear': 2022, 'totalPay': 319850, 'exercisedValue': 0, 'unexercisedValue': 0}, {'maxAge': 1, 'name': 'Mr. Douglas J. Herrington', 'age': 55, 'title': 'Chief Executive Officer of Worldwide Amazon Stores', 'yearBorn': 1967, 'fiscalYear': 2022, 'totalPay': 335438, 'exercisedValue': 0, 'unexercisedValue': 0}, {'maxAge': 1, 'name': 'Mr. Adam N. Selipsky', 'age': 55, 'title': 'Chief Executive Officer of Amazon Web Services, Inc.', 'yearBorn': 1967, 'fiscalYear': 2022, 'totalPay': 360613, 'exercisedValue': 0, 'unexercisedValue': 0}, {'maxAge': 1, 'name': 'Ms. Shelley L. Reynolds', 'age': 57, 'title': 'VP, Worldwide Controller & Principal Accounting Officer', 'yearBorn': 1965, 'fiscalYear': 2022, 'totalPay': 163200, 'exercisedValue': 0, 'unexercisedValue': 0}, {'maxAge': 1, 'name': 'Dr. Werner  Vogels', 'title': 'Chief Technology Officer', 'fiscalYear': 2022, 'exercisedValue': 0, 'unexercisedValue': 0}, {'maxAge': 1, 'name': 'Mr. Dave  Fildes', 'title': 'Director of Investor Relations', 'fiscalYear': 2022, 'exercisedValue': 0, 'unexercisedValue': 0}, {'maxAge': 1, 'name': 'Ms. Anuradha  Aggarwal', 'title': 'CMO & Director of User Growth', 'fiscalYear': 2022, 'exercisedValue': 0, 'unexercisedValue': 0}], 'auditRisk': 4, 'boardRisk': 10, 'compensationRisk': 10, 'shareHolderRightsRisk': 2, 'overallRisk': 10, 'governanceEpochDate': 1701388800, 'compensationAsOfEpochDate': 1672444800, 'maxAge': 86400, 'priceHint': 2, 'previousClose': 153.41, 'open': 153.56, 'dayLow': 153.25, 'dayHigh': 154.78, 'regularMarketPreviousClose': 153.41, 'regularMarketOpen': 153.56, 'regularMarketDayLow': 153.25, 'regularMarketDayHigh': 154.78, 'payoutRatio': 0.0, 'beta': 1.17, 'trailingPE': 80.049484, 'forwardPE': 47.145706, 'volume': 17528399, 'regularMarketVolume': 17528399, 'averageVolume': 51617440, 'averageVolume10days': 51295880, 'averageDailyVolume10Day': 51295880, 'bid': 153.78, 'ask': 153.83, 'bidSize': 800, 'askSize': 800, 'marketCap': 1588284227584, 'fiftyTwoWeekLow': 81.43, 'fiftyTwoWeekHigh': 155.63, 'priceToSalesTrailing12Months': 2.8667943, 'fiftyDayAverage': 141.7154, 'twoHundredDayAverage': 126.858, 'trailingAnnualDividendRate': 0.0, 'trailingAnnualDividendYield': 0.0, 'currency': 'USD', 'enterpriseValue': 1687239655424, 'profitMargins': 0.03624, 'floatShares': 9061394719, 'sharesOutstanding': 10334000128, 'sharesShort': 87368410, 'sharesShortPriorMonth': 75158089, 'sharesShortPreviousMonthDate': 1698710400, 'dateShortInterest': 1701302400, 'sharesPercentSharesOut': 0.0085, 'heldPercentInsiders': 0.09623, 'heldPercentInstitutions': 0.61925, 'shortRatio': 1.75, 'shortPercentOfFloat': 0.0112, 'impliedSharesOutstanding': 10362300416, 'bookValue': 17.713, 'priceToBook': 8.676961, 'lastFiscalYearEnd': 1672444800, 'nextFiscalYearEnd': 1703980800, 'mostRecentQuarter': 1696032000, 'earningsQuarterlyGrowth': 2.44, 'netIncomeToCommon': 20078999552, 'trailingEps': 1.92, 'forwardEps': 3.26, 'pegRatio': 0.8, 'lastSplitFactor': '20:1', 'lastSplitDate': 1654473600, 'enterpriseToRevenue': 3.045, 'enterpriseToEbitda': 22.807, '52WeekChange': 0.8749695, 'SandP52WeekChange': 0.26208627, 'exchange': 'NMS', 'quoteType': 'EQUITY', 'symbol': 'AMZN', 'underlyingSymbol': 'AMZN', 'shortName': 'Amazon.com, Inc.', 'longName': 'Amazon.com, Inc.', 'firstTradeDateEpochUtc': 863703000, 'timeZoneFullName': 'America/New_York', 'timeZoneShortName': 'EST', 'uuid': '261fd26b-0151-3813-b0d0-97e4ed4c6505', 'messageBoardId': 'finmb_18749', 'gmtOffSetMilliseconds': -18000000, 'currentPrice': 153.695, 'targetHighPrice': 208.71, 'targetLowPrice': 116.15, 'targetMeanPrice': 160.74, 'targetMedianPrice': 158.8, 'recommendationMean': 1.7, 'recommendationKey': 'buy', 'numberOfAnalystOpinions': 49, 'totalCash': 64169000960, 'totalCashPerShare': 6.209, 'ebitda': 73978003456, 'totalDebt': 166064996352, 'quickRatio': 0.701, 'currentRatio': 0.985, 'totalRevenue': 554027974656, 'debtToEquity': 90.759, 'revenuePerShare': 53.946, 'returnOnAssets': 0.03612, 'returnOnEquity': 0.12531, 'grossProfits': 225152000000, 'freeCashflow': 36392374272, 'operatingCashflow': 71653998592, 'earningsGrowth': 2.357, 'revenueGrowth': 0.126, 'grossMargins': 0.46243998, 'ebitdaMargins': 0.13352999, 'operatingMargins': 0.07819, 'financialCurrency': 'USD', 'trailingPegRatio': 2.4904}\n"
     ]
    }
   ],
   "source": [
    "Amazon = yf.Ticker(\"AMZN\")\n",
    "print(Amazon.info) "
   ]
  },
  {
   "cell_type": "markdown",
   "id": "floating-indiana",
   "metadata": {},
   "source": [
    "## The outcome of the print statement is a Python dictionary which we can parse in order to extract the desired financial data from Yahoo Finance. For instance, let’s extract a few financial key metrics.\n",
    "\n",
    "## All company information is contained under the info dictionary. Therefore, we can parse the dictionary to extract the elements that we are interested in:"
   ]
  },
  {
   "cell_type": "code",
   "execution_count": 3,
   "id": "aggressive-sailing",
   "metadata": {},
   "outputs": [
    {
     "name": "stdout",
     "output_type": "stream",
     "text": [
      "Consumer Cyclical\n",
      "80.06771\n"
     ]
    }
   ],
   "source": [
    "Amazon = yf.Ticker(\"AMZN\") \n",
    "\n",
    "# 1) Company Sector \n",
    "print(Amazon.info['sector']) \n",
    " \n",
    "# 2) Price Earnings Ratio \n",
    "print(Amazon.info['trailingPE'])\n",
    " "
   ]
  },
  {
   "cell_type": "markdown",
   "id": "associate-refund",
   "metadata": {},
   "source": [
    "## There are so many other things available within info. We can see all of them by printing the keys of info:"
   ]
  },
  {
   "cell_type": "code",
   "execution_count": 4,
   "id": "banner-dealer",
   "metadata": {},
   "outputs": [
    {
     "name": "stdout",
     "output_type": "stream",
     "text": [
      "dict_keys(['address1', 'city', 'state', 'zip', 'country', 'phone', 'website', 'industry', 'industryKey', 'industryDisp', 'sector', 'sectorKey', 'sectorDisp', 'longBusinessSummary', 'fullTimeEmployees', 'companyOfficers', 'auditRisk', 'boardRisk', 'compensationRisk', 'shareHolderRightsRisk', 'overallRisk', 'governanceEpochDate', 'compensationAsOfEpochDate', 'maxAge', 'priceHint', 'previousClose', 'open', 'dayLow', 'dayHigh', 'regularMarketPreviousClose', 'regularMarketOpen', 'regularMarketDayLow', 'regularMarketDayHigh', 'payoutRatio', 'beta', 'trailingPE', 'forwardPE', 'volume', 'regularMarketVolume', 'averageVolume', 'averageVolume10days', 'averageDailyVolume10Day', 'bid', 'ask', 'bidSize', 'askSize', 'marketCap', 'fiftyTwoWeekLow', 'fiftyTwoWeekHigh', 'priceToSalesTrailing12Months', 'fiftyDayAverage', 'twoHundredDayAverage', 'trailingAnnualDividendRate', 'trailingAnnualDividendYield', 'currency', 'enterpriseValue', 'profitMargins', 'floatShares', 'sharesOutstanding', 'sharesShort', 'sharesShortPriorMonth', 'sharesShortPreviousMonthDate', 'dateShortInterest', 'sharesPercentSharesOut', 'heldPercentInsiders', 'heldPercentInstitutions', 'shortRatio', 'shortPercentOfFloat', 'impliedSharesOutstanding', 'bookValue', 'priceToBook', 'lastFiscalYearEnd', 'nextFiscalYearEnd', 'mostRecentQuarter', 'earningsQuarterlyGrowth', 'netIncomeToCommon', 'trailingEps', 'forwardEps', 'pegRatio', 'lastSplitFactor', 'lastSplitDate', 'enterpriseToRevenue', 'enterpriseToEbitda', '52WeekChange', 'SandP52WeekChange', 'exchange', 'quoteType', 'symbol', 'underlyingSymbol', 'shortName', 'longName', 'firstTradeDateEpochUtc', 'timeZoneFullName', 'timeZoneShortName', 'uuid', 'messageBoardId', 'gmtOffSetMilliseconds', 'currentPrice', 'targetHighPrice', 'targetLowPrice', 'targetMeanPrice', 'targetMedianPrice', 'recommendationMean', 'recommendationKey', 'numberOfAnalystOpinions', 'totalCash', 'totalCashPerShare', 'ebitda', 'totalDebt', 'quickRatio', 'currentRatio', 'totalRevenue', 'debtToEquity', 'revenuePerShare', 'returnOnAssets', 'returnOnEquity', 'grossProfits', 'freeCashflow', 'operatingCashflow', 'earningsGrowth', 'revenueGrowth', 'grossMargins', 'ebitdaMargins', 'operatingMargins', 'financialCurrency', 'trailingPegRatio'])\n"
     ]
    }
   ],
   "source": [
    "print(Amazon.info.keys()) "
   ]
  },
  {
   "cell_type": "markdown",
   "id": "gross-jacksonville",
   "metadata": {},
   "source": [
    "# Retrieving Historical Maket Prices:\n",
    "# Moving on with other options offered by the library. We can also use it in order to download historical market data.\n",
    "\n",
    "# For our example, we will get historical stock prices for Amazon covering the last few years. As shown below, it is a rather simple task to do:"
   ]
  },
  {
   "cell_type": "code",
   "execution_count": 5,
   "id": "false-board",
   "metadata": {},
   "outputs": [
    {
     "name": "stdout",
     "output_type": "stream",
     "text": [
      "                                 Open        High         Low       Close  \\\n",
      "Date                                                                        \n",
      "1997-05-15 00:00:00-04:00    0.121875    0.125000    0.096354    0.097917   \n",
      "1997-05-16 00:00:00-04:00    0.098438    0.098958    0.085417    0.086458   \n",
      "1997-05-19 00:00:00-04:00    0.088021    0.088542    0.081250    0.085417   \n",
      "1997-05-20 00:00:00-04:00    0.086458    0.087500    0.081771    0.081771   \n",
      "1997-05-21 00:00:00-04:00    0.081771    0.082292    0.068750    0.071354   \n",
      "...                               ...         ...         ...         ...   \n",
      "2023-12-20 00:00:00-05:00  152.899994  155.630005  151.559998  152.119995   \n",
      "2023-12-21 00:00:00-05:00  153.300003  153.970001  152.100006  153.839996   \n",
      "2023-12-22 00:00:00-05:00  153.770004  154.350006  152.710007  153.419998   \n",
      "2023-12-26 00:00:00-05:00  153.559998  153.979996  153.029999  153.410004   \n",
      "2023-12-27 00:00:00-05:00  153.559998  154.779999  153.250000  153.750000   \n",
      "\n",
      "                               Volume  Dividends  Stock Splits  \n",
      "Date                                                            \n",
      "1997-05-15 00:00:00-04:00  1443120000        0.0           0.0  \n",
      "1997-05-16 00:00:00-04:00   294000000        0.0           0.0  \n",
      "1997-05-19 00:00:00-04:00   122136000        0.0           0.0  \n",
      "1997-05-20 00:00:00-04:00   109344000        0.0           0.0  \n",
      "1997-05-21 00:00:00-04:00   377064000        0.0           0.0  \n",
      "...                               ...        ...           ...  \n",
      "2023-12-20 00:00:00-05:00    50322100        0.0           0.0  \n",
      "2023-12-21 00:00:00-05:00    36305700        0.0           0.0  \n",
      "2023-12-22 00:00:00-05:00    29480100        0.0           0.0  \n",
      "2023-12-26 00:00:00-05:00    25016400        0.0           0.0  \n",
      "2023-12-27 00:00:00-05:00    17437482        0.0           0.0  \n",
      "\n",
      "[6699 rows x 7 columns]\n"
     ]
    }
   ],
   "source": [
    "Amazon = yf.Ticker(\"AMZN\") \n",
    "print(Amazon.history(period=\"max\"))"
   ]
  },
  {
   "cell_type": "markdown",
   "id": "distributed-pierre",
   "metadata": {},
   "source": [
    "# Since we have specified period = max, we get the maximum number of daily prices available for Amazon. You can also pass a lower range. The valid options are 1d, 5d, 1mo, 3mo, 6mo, 1y, 2y, 5y, 10y and ytd."
   ]
  },
  {
   "cell_type": "code",
   "execution_count": 8,
   "id": "empirical-duncan",
   "metadata": {},
   "outputs": [],
   "source": [
    "GetTesla = yf.Ticker(\"TSLA\")\n",
    " \n",
    "# Valid options are 1d, 5d, 1mo, 3mo, 6mo, 1y,\n",
    "# 2y, 5y, 10y and ytd.\n",
    "# print(GetFacebookInformation.history(period=\"6mo\"))"
   ]
  },
  {
   "cell_type": "code",
   "execution_count": null,
   "id": "continuing-retail",
   "metadata": {},
   "outputs": [],
   "source": []
  },
  {
   "cell_type": "code",
   "execution_count": null,
   "id": "wrong-oregon",
   "metadata": {},
   "outputs": [],
   "source": []
  }
 ],
 "metadata": {
  "kernelspec": {
   "display_name": "Python 3 (ipykernel)",
   "language": "python",
   "name": "python3"
  },
  "language_info": {
   "codemirror_mode": {
    "name": "ipython",
    "version": 3
   },
   "file_extension": ".py",
   "mimetype": "text/x-python",
   "name": "python",
   "nbconvert_exporter": "python",
   "pygments_lexer": "ipython3",
   "version": "3.11.5"
  }
 },
 "nbformat": 4,
 "nbformat_minor": 5
}
